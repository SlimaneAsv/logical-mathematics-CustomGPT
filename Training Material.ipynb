{
 "cells": [
  {
   "cell_type": "markdown",
   "id": "f4ea9159",
   "metadata": {},
   "source": [
    "# Recommended Real Analysis Textbooks - Used as training material\n",
    "\n",
    "---\n",
    "\n",
    "## Textbook 1 to 5: Introductory Real Analysis and Foundational Concepts\n",
    "\n",
    "These books are foundational texts, often used for an introduction to real analysis. They cover fundamental concepts such as limits, continuity, differentiation, and integration. The language is accessible for beginners, with some (like Abbott's *Understanding Analysis*) aimed at making difficult ideas easier to grasp.\n",
    "\n",
    "**Textbooks:**\n",
    "\n",
    "1. **Charles C. Pugh**, *Real Mathematical Analysis* (2nd Edition)\n",
    "2. **Walter Rudin**, *Principles of Mathematical Analysis*\n",
    "3. **Robert G. Bartle**, **Donald R. Sherbert**, *Introduction to Real Analysis*\n",
    "4. **Abbott**, *Understanding Analysis*\n",
    "5. **Addison Wesley**, *Mathematical Analysis* (5th Edition)\n",
    "\n",
    "---\n",
    "\n",
    "## Textbook 6 to 10: Advanced Real Analysis and Measure Theory\n",
    "\n",
    "These texts focus on more advanced topics in real analysis, particularly measure theory, integration, and functional analysis. They are suitable for graduate-level students or advanced undergraduates looking to deepen their understanding of measure theory and integration, which are crucial for probability theory and functional analysis. Some texts in this group, such as those by Stein & Shakarchi and Evans & Gariepy, delve into specialized applications, making this group appropriate for rigorous study and specialization.\n",
    "\n",
    "**Textbooks:**\n",
    "\n",
    "6. **Walter Rudin**, *Real and Complex Analysis* (3rd Edition)\n",
    "7. **Gerald B. Folland**, *Real Analysis: Modern Techniques and Their Applications* (2nd Edition)\n",
    "8. **Elias M. Stein**, **Rami Shakarchi**, *Real Analysis: Measure Theory, Integration, and Hilbert Spaces*\n",
    "9. **H.L. Royden**, **P.M. Fitzpatrick**, *Real Analysis* (4th Edition)\n",
    "10. **Lawrence C. Evans**, **Ronald F. Gariepy**, *Measure Theory and Fine Properties of Functions*\n",
    "\n",
    "---"
   ]
  }
 ],
 "metadata": {
  "kernelspec": {
   "display_name": "Python 3 (ipykernel)",
   "language": "python",
   "name": "python3"
  },
  "language_info": {
   "codemirror_mode": {
    "name": "ipython",
    "version": 3
   },
   "file_extension": ".py",
   "mimetype": "text/x-python",
   "name": "python",
   "nbconvert_exporter": "python",
   "pygments_lexer": "ipython3",
   "version": "3.11.6"
  }
 },
 "nbformat": 4,
 "nbformat_minor": 5
}
