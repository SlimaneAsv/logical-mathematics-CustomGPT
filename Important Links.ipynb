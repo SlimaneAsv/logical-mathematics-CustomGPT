{
 "cells": [
  {
   "cell_type": "markdown",
   "id": "a6109fdc",
   "metadata": {},
   "source": [
    "## Important Link\n",
    "\n",
    "- **Custom GTP**: * https://chatgpt.com/g/g-Fk9gtJLQZ-logical-thinking-in-mathematics *\n",
    "\n",
    "- **Training Material**: * https://drive.google.com/drive/folders/1xoyJZxBHGTjdp2arAyLUSYZ_gk8YV0uR?usp=drive_link *\n",
    "\n",
    "- **Discord of the project**: https://discord.gg/NQjjf2Mx"
   ]
  },
  {
   "cell_type": "code",
   "execution_count": null,
   "id": "1041dfcd",
   "metadata": {},
   "outputs": [],
   "source": []
  }
 ],
 "metadata": {
  "kernelspec": {
   "display_name": "Python 3 (ipykernel)",
   "language": "python",
   "name": "python3"
  },
  "language_info": {
   "codemirror_mode": {
    "name": "ipython",
    "version": 3
   },
   "file_extension": ".py",
   "mimetype": "text/x-python",
   "name": "python",
   "nbconvert_exporter": "python",
   "pygments_lexer": "ipython3",
   "version": "3.11.6"
  }
 },
 "nbformat": 4,
 "nbformat_minor": 5
}
